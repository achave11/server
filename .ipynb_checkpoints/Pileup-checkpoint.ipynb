{
 "cells": [
  {
   "cell_type": "markdown",
   "metadata": {},
   "source": [
    "# Query for pile-up allignments at region \"x\""
   ]
  },
  {
   "cell_type": "markdown",
   "metadata": {},
   "source": [
    "We can query the database to obtain a pile-up of the reads from a given readgroup."
   ]
  },
  {
   "cell_type": "markdown",
   "metadata": {},
   "source": [
    "### Initialize the client\n",
    "\n",
    "As seen in the \"1kg.ipynb\" example, we take the following steps to create the client object that will be used to obtain the information we desire and query the serever "
   ]
  },
  {
   "cell_type": "code",
   "execution_count": 4,
   "metadata": {
    "collapsed": true
   },
   "outputs": [],
   "source": [
    "import ga4gh.client as client\n",
    "c = client.HttpClient(\"http://1kgenomes.ga4gh.org\")"
   ]
  },
  {
   "cell_type": "markdown",
   "metadata": {},
   "source": [
    "### Make reference to the data from the server\n",
    "\n",
    "We query the server for the dataset, which is the 1k-genomes dataset.\n",
    "We follow to access the bases of reference. So to access it we first list the reference sets."
   ]
  },
  {
   "cell_type": "code",
   "execution_count": 5,
   "metadata": {
    "collapsed": false
   },
   "outputs": [],
   "source": [
    "dataset = c.searchDatasets().next()\n",
    "referenceSet = c.searchReferenceSets().next()\n",
    "references = [r for r in c.searchReferences(referenceSetId = referenceSet.id)]"
   ]
  },
  {
   "cell_type": "markdown",
   "metadata": {},
   "source": [
    "### Reference chromosome & read group set read groups\n",
    "We define our contigues sequence with a chromosome reference, and then make a reference array for our read group sets of read groups."
   ]
  },
  {
   "cell_type": "code",
   "execution_count": 38,
   "metadata": {
    "collapsed": false
   },
   "outputs": [],
   "source": [
    "contig = references[0].id\n",
    "rgIdsArr = []\n",
    "for r in c.searchReadGroupSets(datasetId=dataset.id):\n",
    "    rgIdsArr.append([e for e in r.readGroups])"
   ]
  },
  {
   "cell_type": "markdown",
   "metadata": {},
   "source": [
    "### Function to obtain the complement of a negative strand read\n",
    "This function takes the original sequence if it is in the negative strand and then returns the compliment of the input sequence "
   ]
  },
  {
   "cell_type": "code",
   "execution_count": 63,
   "metadata": {
    "collapsed": false
   },
   "outputs": [],
   "source": [
    "def Revers_Compl(Sequence):\n",
    "    CompSeq = list(Sequence[:])\n",
    "    for i in range(len(Sequence)):\n",
    "        if Sequence[i]==\"A\":\n",
    "            CompSeq[i] = \"T\"\n",
    "        elif Sequence[i]==\"C\":\n",
    "            CompSeq[i] = \"G\"\n",
    "        elif Sequence[i] == \"G\":\n",
    "            CompSeq[i] = \"C\"\n",
    "        elif Sequence[i] == \"T\":\n",
    "            CompSeq[i] = \"A\"\n",
    "        else:\n",
    "            CompSeq[i] = \"N\"\n",
    "    return \"\".join(CompSeq)"
   ]
  },
  {
   "cell_type": "markdown",
   "metadata": {},
   "source": [
    "### Pile up function\n",
    "This function calculates the pile up's for a given region, that is the position being observed. It takes as input the chromosome reference and the readgroups to obtain the needed sequence read. "
   ]
  },
  {
   "cell_type": "code",
   "execution_count": 64,
   "metadata": {
    "collapsed": false
   },
   "outputs": [],
   "source": [
    "def pileUp(contig, position, rgIdsArr):\n",
    "    alleles = []\n",
    "    for i in rgIdsArr[0]:   \n",
    "        for sequence in c.searchReads(readGroupIds=[i.id],start = position, end = position+1, referenceId=contig):\n",
    "            if sequence.alignment != None:\n",
    "                start = sequence.alignment.position.position\n",
    "                observe = position-start\n",
    "                if sequence.alignment.position.strand == \"NEG_STRAND\":\n",
    "                    Rev_Comp_Seq = Revers_Compl(sequence.alignedSequence)\n",
    "                    allele = Rev_Comp_Seq[-(observe+1)]\n",
    "                    alleles.append({\"allele\":allele, \"readGroupId\":i.id})\n",
    "                else:\n",
    "                    allele = sequence.alignedSequence[observe]\n",
    "                    alleles.append({\"allele\": allele, \"readGroupId\": i.id })\n",
    "    return alleles         \n",
    "          "
   ]
  },
  {
   "cell_type": "markdown",
   "metadata": {},
   "source": [
    "### Function to calculate occurrence frequency\n",
    "The frequency is obtain from the occurence of alleles in the observed position. And our function returns an array of occurances for a given instance as well as the overall frequency. "
   ]
  },
  {
   "cell_type": "code",
   "execution_count": 89,
   "metadata": {
    "collapsed": false,
    "scrolled": false
   },
   "outputs": [],
   "source": [
    "def Calc_Freq(Position):\n",
    "    Test = pileUp(references[0].id, Position, rgIdsArr)\n",
    "    tot = len(Test)\n",
    "    A = [{\"All\": \"A\",\"Frq\": float(0),\"Occ\": 0},{\"All\": \"C\",\"Frq\": float(0), \"Occ\": 0},{\"All\": \"G\",\"Frq\": float(0), \"Occ\": 0},{\"All\": \"T\",\"Frq\": float(0), \"Occ\": 0}]\n",
    "    for i in range(tot):\n",
    "        if Test[i][\"allele\"] == \"A\":\n",
    "            A[0][\"Occ\"] += 1\n",
    "        elif Test[i][\"allele\"]==\"C\":\n",
    "            A[1][\"Occ\"] += 1\n",
    "        elif Test[i][\"allele\"] == \"G\":\n",
    "            A[2][\"Occ\"] += 1\n",
    "        elif Test[i][\"allele\"] == \"T\":\n",
    "            A[3][\"Occ\"] += 1\n",
    "        else:\n",
    "            tot -= 1        \n",
    "    A[0][\"Frq\"] = float(A[0][\"Occ\"])/float(tot)\n",
    "    A[1][\"Frq\"] = float(A[1][\"Occ\"])/float(tot)\n",
    "    A[2][\"Frq\"] = float(A[2][\"Occ\"])/float(tot)\n",
    "    A[3][\"Frq\"] = float(A[3][\"Occ\"])/float(tot)\n",
    "    return A"
   ]
  },
  {
   "cell_type": "code",
   "execution_count": 91,
   "metadata": {
    "collapsed": false
   },
   "outputs": [
    {
     "name": "stdout",
     "output_type": "stream",
     "text": [
      "The most frequent allele is : T, with 36 occurances and overall frequency of : 0.8\n"
     ]
    }
   ],
   "source": [
    "X = Calc_Freq(10000)\n",
    "Exampl = max(X)\n",
    "print \"The most frequent allele is : {}, with {} occurances and overall frequency of : {}\".format(Exampl[\"All\"], Exampl[\"Occ\"], Exampl[\"Frq\"])\n"
   ]
  },
  {
   "cell_type": "code",
   "execution_count": null,
   "metadata": {
    "collapsed": true
   },
   "outputs": [],
   "source": []
  }
 ],
 "metadata": {
  "kernelspec": {
   "display_name": "Python 2",
   "language": "python",
   "name": "python2"
  },
  "language_info": {
   "codemirror_mode": {
    "name": "ipython",
    "version": 2
   },
   "file_extension": ".py",
   "mimetype": "text/x-python",
   "name": "python",
   "nbconvert_exporter": "python",
   "pygments_lexer": "ipython2",
   "version": "2.7.11"
  }
 },
 "nbformat": 4,
 "nbformat_minor": 0
}
