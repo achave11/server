{
 "cells": [
  {
   "cell_type": "markdown",
   "metadata": {},
   "source": [
    "# Query for pile-up allignments at region \"x\""
   ]
  },
  {
   "cell_type": "markdown",
   "metadata": {},
   "source": [
    "We can query the database to obtain a pile-up of the reads from a given readgroup."
   ]
  },
  {
   "cell_type": "code",
   "execution_count": 112,
   "metadata": {
    "collapsed": true
   },
   "outputs": [],
   "source": [
    "import ga4gh.client as client\n",
    "c = client.HttpClient(\"http://1kgenomes.ga4gh.org\")"
   ]
  },
  {
   "cell_type": "code",
   "execution_count": 113,
   "metadata": {
    "collapsed": true
   },
   "outputs": [],
   "source": [
    "dataset = c.searchDatasets().next()\n",
    "referenceSet = c.searchReferenceSets().next()\n",
    "references = [r for r in c.searchReferences(referenceSetId = referenceSet.id)]"
   ]
  },
  {
   "cell_type": "code",
   "execution_count": 114,
   "metadata": {
    "collapsed": false
   },
   "outputs": [],
   "source": [
    "contig = references[0].id\n",
    "RGS = c.searchReadGroupSets(datasetId=dataset.id).next()\n",
    "rgIdArray = [e for e in RGS.readGroups]    "
   ]
  },
  {
   "cell_type": "code",
   "execution_count": 115,
   "metadata": {
    "collapsed": false
   },
   "outputs": [],
   "source": [
    "def Revers_Compl(Sequence):\n",
    "    RevSeq = list(Sequence[:])\n",
    "    for i in range(len(Sequence)):\n",
    "        if Sequence[i]==\"A\":\n",
    "            RevSeq[i] = \"T\"\n",
    "        elif Sequence[i]==\"C\":\n",
    "            RevSeq[i] = \"G\"\n",
    "        elif Sequence[i] == \"G\":\n",
    "            RevSeq[i] = \"C\"\n",
    "        else:\n",
    "            RevSeq[i] = \"A\"\n",
    "    return \"\".join(RevSeq)"
   ]
  },
  {
   "cell_type": "code",
   "execution_count": 116,
   "metadata": {
    "collapsed": false
   },
   "outputs": [],
   "source": [
    "def pileUp(contig, position, rgIdArray):\n",
    "    alleles = []\n",
    "    for i in rgIdArray:   \n",
    "        for sequence in c.searchReads(readGroupIds=[i.id],start = position, end = position+1, referenceId=contig):\n",
    "            if sequence.alignment != None:\n",
    "                start = sequence.alignment.position.position\n",
    "                observe = position-start\n",
    "                allele = sequence.alignedSequence[observe]\n",
    "                alleles.append({\"allele\": allele, \"readGroupId\": i.id })\n",
    "    return alleles         \n",
    "          "
   ]
  },
  {
   "cell_type": "code",
   "execution_count": 117,
   "metadata": {
    "collapsed": false,
    "scrolled": false
   },
   "outputs": [
    {
     "name": "stdout",
     "output_type": "stream",
     "text": [
      "\n",
      "Frequency 'A': 0.0444444444444, Frequency 'C': 0.133333333333, Frequency 'G': 0.0222222222222, Frequency 'T': 0.8\n"
     ]
    }
   ],
   "source": [
    "Test = pileUp(references[0].id, 10000, rgIdArray)\n",
    "tot = len(Test)\n",
    "A = [0,0,0,0]\n",
    "print \n",
    "for i in range(tot):\n",
    "    if Test[i][\"allele\"] == \"A\":\n",
    "        A[0] += 1\n",
    "    elif Test[i][\"allele\"]==\"C\":\n",
    "        A[1] += 1\n",
    "    elif Test[i][\"allele\"] == \"G\":\n",
    "        A[2] += 1\n",
    "    else:\n",
    "        A[3] += 1\n",
    "print(\"Frequency 'A': {}, Frequency 'C': {}, Frequency 'G': {}, Frequency 'T': {}\".format(float(A[0])/float(tot), float(A[1])/float(tot), float(A[2])/float(tot), float(A[3])/float(tot)))"
   ]
  },
  {
   "cell_type": "code",
   "execution_count": null,
   "metadata": {
    "collapsed": true
   },
   "outputs": [],
   "source": []
  }
 ],
 "metadata": {
  "kernelspec": {
   "display_name": "Python 2",
   "language": "python",
   "name": "python2"
  },
  "language_info": {
   "codemirror_mode": {
    "name": "ipython",
    "version": 2
   },
   "file_extension": ".py",
   "mimetype": "text/x-python",
   "name": "python",
   "nbconvert_exporter": "python",
   "pygments_lexer": "ipython2",
   "version": "2.7.11"
  }
 },
 "nbformat": 4,
 "nbformat_minor": 0
}
